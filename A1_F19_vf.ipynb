{
 "cells": [
  {
   "cell_type": "markdown",
   "metadata": {
    "colab_type": "text",
    "id": "fzMyE386oaaV"
   },
   "source": [
    "**Fall 2019**\n",
    "\n",
    "**P556: Applied Machine Learning**\n",
    "\n",
    "**Assignment #1**\n",
    "\n",
    "**Due date: September 18, 2019. 11:59 PM**\n",
    "\n",
    "DO NOT CHANGE THE FUNCTION DEFINITIONS UNLESS APPROVED BY AN AI."
   ]
  },
  {
   "cell_type": "markdown",
   "metadata": {
    "colab_type": "text",
    "id": "FJz8ZxU7opMy"
   },
   "source": [
    "# Problem #1: Linear Regression\n",
    "\n",
    "##  Problem 1.1 (25 points)\n",
    "\n",
    "Implement linear regression using gradient descent. Your implementation should be able to handle simple and multiple linear regression.\n",
    "\n",
    "Note 1: by implementation we mean that everything has to be written from scratch and that you cannot call a linear regression function from a library, such as sklearn. Usage of standard libraries, such as numpy, pandas, etc., is fine. If you are unsure about whether a library can be used, please contact the AIs well in advance of the submission date.\n",
    "\n",
    "Note 2: You are free to use sklearn to test whether your results match that from a battle-tested library. This is a great way to know before hand whether your submission is correct. Make sure to use the same parameters on both models before you spend an eternity debugging code that is correct but not returning the same values."
   ]
  },
  {
   "cell_type": "code",
   "execution_count": 1,
   "metadata": {
    "colab": {},
    "colab_type": "code",
    "id": "dW1xPyXPoonO"
   },
   "outputs": [],
   "source": [
    "import numpy as np\n",
    "from sklearn.datasets import load_boston\n",
    "import pandas as pd\n",
    "import numpy as np\n",
    "import random as random\n",
    "random.seed(9001)\n",
    "import matplotlib.pyplot as plt\n",
    "import warnings\n",
    "from itertools import combinations \n",
    "warnings.filterwarnings(\"ignore\")\n",
    "\n",
    "class linear_regression:\n",
    "    def __init__(self, learning_rate, iterations, \n",
    "               fit_intercept=True, normalize=False, coef=None):\n",
    "        self.fit_intercept = fit_intercept\n",
    "        self.normalize = normalize\n",
    "        self.learning_rate = learning_rate\n",
    "        self.iterations = iterations\n",
    "        self.coef = coef\n",
    "\n",
    "    def fit(self, X, y):\n",
    "        \"\"\"\n",
    "        Fit linear model.\n",
    "        Parameters\n",
    "        ----------\n",
    "        X : array-like, shape (n_samples, n_features)\n",
    "            Training data\n",
    "        y : array_like, shape (n_samples, n_targets)\n",
    "            Target values.\n",
    "\n",
    "        #DISCLAIMER: The inputs X & y must be passed as a DataFrame\n",
    "        \"\"\"\n",
    "\n",
    "        #Initialize Coefficients\n",
    "        global theta\n",
    "        theta = np.zeros((X.shape[1]+1,1)) #Initialize theta to the number of features + dummy variable fpr theta 0\n",
    "        m = X.shape[0] #Initialize the number of elements in the Dataset\n",
    "\n",
    "        alpha = self.learning_rate #Initialize Learning Rate\n",
    "        iters = self.iterations #Initialize number of Iterations\n",
    "\n",
    "        #Feature Normalization\n",
    "        if (self.normalize == True):\n",
    "            X_norm = X; \n",
    "            mu = np.mean(X_norm) #Compute Mean\n",
    "            sigma = np.std(X_norm,ddof=1) #Compute Standard Deviation\n",
    "\n",
    "            #Perform Normalization\n",
    "            X_norm = (X_norm - mu)/sigma\n",
    "            X = X_norm     \n",
    "\n",
    "        #Insert a Dummy variable for Theta 0\n",
    "        X.insert(0, '', np.ones(X.shape[0]))\n",
    "        cost = [] #Cost History variable\n",
    "\n",
    "        #Gradident Descent\n",
    "        for i in range(0,iters):\n",
    "            error = np.dot(np.squeeze(np.asarray(X)),theta) - np.array(pd.DataFrame(y))\n",
    "            cost.append((1/(2*m)) * np.square(error))\n",
    "            X_temp = np.dot(np.array(error.T),np.array(X))\n",
    "            theta = theta - (X_temp * (alpha/m)).T\n",
    "        return theta,cost\n",
    "    pass\n",
    "\n",
    "    def predict(self, X):\n",
    "        \"\"\"Predict using the linear model\n",
    "        Parameters\n",
    "        ----------\n",
    "        X : array_like, shape (n_samples, n_features)\n",
    "            Samples.\n",
    "        Returns\n",
    "        -------\n",
    "        C : array, shape (n_samples,)\n",
    "            Returns predicted values.\n",
    "        \"\"\"\n",
    "        if (self.normalize == True):\n",
    "            #Feature Normalization\n",
    "            X_norm = X; \n",
    "            mu = np.mean(X_norm) #Compute Mean\n",
    "            sigma = np.std(X_norm,ddof=1) #Compute Standard Deviation\n",
    "            #Perform Normalization\n",
    "            X_norm = (X_norm - mu)/sigma #Normalize\n",
    "            X = X_norm \n",
    "\n",
    "        #Insert a Dummy variable for Theta 0\n",
    "        X.insert(0,'', np.ones(X.shape[0]))\n",
    "\n",
    "        coef = np.dot(np.asarray(X),theta)\n",
    "        return coef\n",
    "        \n",
    "    pass"
   ]
  },
  {
   "cell_type": "markdown",
   "metadata": {},
   "source": [
    "### Importing the Boston Dataset"
   ]
  },
  {
   "cell_type": "code",
   "execution_count": 2,
   "metadata": {},
   "outputs": [],
   "source": [
    "data = load_boston()\n",
    "df = pd.DataFrame(data.data, columns=data.feature_names)\n",
    "df['PRICE'] = data.target\n",
    "\n",
    "boston_X = df['RM']\n",
    "boston_y = pd.DataFrame(df['PRICE'])"
   ]
  },
  {
   "cell_type": "markdown",
   "metadata": {},
   "source": [
    "## Testing implementation on a 1 dimensional dataset"
   ]
  },
  {
   "cell_type": "code",
   "execution_count": 3,
   "metadata": {},
   "outputs": [],
   "source": [
    "oneD = df[['RM','PRICE']]"
   ]
  },
  {
   "cell_type": "code",
   "execution_count": 4,
   "metadata": {},
   "outputs": [
    {
     "name": "stdout",
     "output_type": "stream",
     "text": [
      "     Predict  Actual    Sq_Diff\n",
      "0  24.462430    24.0   0.213842\n",
      "1  19.577888    18.9   0.459533\n",
      "2  19.620660    18.9   0.519351\n",
      "3  17.944005    14.5  11.861168\n",
      "4  16.113371    13.9   4.899010\n",
      "5  23.778081    18.4  28.923759\n",
      "6  20.159585    14.5  32.030904\n",
      "7  19.115953    13.2  34.998496\n",
      "8  18.183527    20.0   3.299575\n",
      "9  19.252822    24.7  29.671743\n",
      "\n",
      "The MSE for the above model: 49.946555682743494\n"
     ]
    }
   ],
   "source": [
    "#Using the feature RM, which represents number of rooms in a house, to predict the price\n",
    "oneD = df[['RM','PRICE']]\n",
    "\n",
    "#Create an instance of class Linear_Regression\n",
    "lin_reg = linear_regression\n",
    "model = lin_reg(0.01,1500,normalize=True)\n",
    "\n",
    "#Train & Test Split\n",
    "train = oneD.sample(frac=0.70, random_state=0)\n",
    "test = oneD.drop(train.index)\n",
    "\n",
    "train_X = train[['RM']]\n",
    "train_y = pd.DataFrame(train['PRICE'])\n",
    "test_X = test[['RM']]\n",
    "test_y = pd.DataFrame(test['PRICE'])\n",
    "\n",
    "coef, cost = model.fit(train_X,train_y)\n",
    "predictions = model.predict(test_X)\n",
    "\n",
    "final_df = pd.DataFrame()\n",
    "final_df = pd.DataFrame(predictions).reset_index(drop = True)\n",
    "final_df1 = pd.DataFrame(test_y).reset_index(drop = True)\n",
    "final_df['Actual'] = final_df1['PRICE']\n",
    "final_df = final_df.rename(columns={0:\"Predict\"})\n",
    "final_df['Sq_Diff'] = np.square(final_df['Actual'] - final_df['Predict'])\n",
    "MSE = np.sum(final_df['Sq_Diff'])/len(final_df)\n",
    "print(final_df.head(10))\n",
    "print(\"\\nThe MSE for the above model:\",MSE)"
   ]
  },
  {
   "cell_type": "markdown",
   "metadata": {},
   "source": [
    "### Testing the same against Scikit Learn"
   ]
  },
  {
   "cell_type": "code",
   "execution_count": 5,
   "metadata": {},
   "outputs": [
    {
     "name": "stdout",
     "output_type": "stream",
     "text": [
      "     Predict  Actual    Sq_Diff  sklearn_Pred  Sq_Diff_sklearn\n",
      "0  24.462430    24.0   0.213842     25.041019         1.083721\n",
      "1  19.577888    18.9   0.459533     20.078959         1.389945\n",
      "2  19.620660    18.9   0.519351     20.122410         1.494286\n",
      "3  17.944005    14.5  11.861168     18.419146        15.359707\n",
      "4  16.113371    13.9   4.899010     16.559460         7.072728\n",
      "5  23.778081    18.4  28.923759     24.345809        35.352648\n",
      "6  20.159585    14.5  32.030904     20.669888        38.067515\n",
      "7  19.115953    13.2  34.998496     19.609693        41.084163\n",
      "8  18.183527    20.0   3.299575     18.662470         1.788988\n",
      "9  19.252822    24.7  29.671743     19.748735        24.515027\n",
      "\n",
      "The MSE from Sklearn is: 49.402477125845444\n"
     ]
    }
   ],
   "source": [
    "from sklearn.linear_model import LinearRegression\n",
    "\n",
    "# instantiate, fit & predict\n",
    "lm2 = LinearRegression()\n",
    "lm2.fit(train_X, train_y)\n",
    "\n",
    "# predict for a new observation\n",
    "final_df['sklearn_Pred'] = lm2.predict(test_X)\n",
    "\n",
    "#Put the same in a Dataframe for output\n",
    "final_df['Sq_Diff_sklearn'] = np.square(final_df['Actual'] - final_df['sklearn_Pred'])\n",
    "MSE = np.sum(final_df['Sq_Diff_sklearn'])/len(final_df)\n",
    "print(final_df.head(10))\n",
    "print(\"\\nThe MSE from Sklearn is:\",MSE)"
   ]
  },
  {
   "cell_type": "markdown",
   "metadata": {},
   "source": [
    "## Testing implementation on n dimensional dataset"
   ]
  },
  {
   "cell_type": "code",
   "execution_count": 6,
   "metadata": {},
   "outputs": [],
   "source": [
    "multiD = df"
   ]
  },
  {
   "cell_type": "code",
   "execution_count": 7,
   "metadata": {},
   "outputs": [
    {
     "name": "stdout",
     "output_type": "stream",
     "text": [
      "     Predict  Actual    Sq_Diff\n",
      "0  29.257814    24.0  27.644613\n",
      "1  18.416005    18.9   0.234251\n",
      "2  20.881352    18.9   3.925754\n",
      "3  14.126827    14.5   0.139258\n",
      "4  13.304788    13.9   0.354278\n",
      "5  19.579230    18.4   1.390583\n",
      "6  17.974116    14.5  12.069481\n",
      "7   9.246141    13.2  15.633002\n",
      "8  21.880027    20.0   3.534503\n",
      "9  22.521078    24.7   4.747701\n",
      "\n",
      "The MSE for the above model: 24.577718522868278\n"
     ]
    }
   ],
   "source": [
    "#Create an instance of class Linear_Regression\n",
    "lin_reg = linear_regression\n",
    "model = lin_reg(0.01,1500,normalize=True)\n",
    "\n",
    "#Train & Test Split\n",
    "train = multiD.sample(frac=0.70, random_state=0)\n",
    "test = multiD.drop(train.index)\n",
    "\n",
    "train_X = train[['CRIM','ZN','INDUS','CHAS','NOX','RM','AGE','DIS','RAD','TAX','PTRATIO','B','LSTAT']]\n",
    "train_y = pd.DataFrame(train['PRICE'])\n",
    "\n",
    "test_X = test[['CRIM','ZN','INDUS','CHAS','NOX','RM','AGE','DIS','RAD','TAX','PTRATIO','B','LSTAT']]\n",
    "test_y = pd.DataFrame(test['PRICE'])\n",
    "\n",
    "coef, cost = model.fit(train_X,train_y)\n",
    "predictions = model.predict(test_X)\n",
    "\n",
    "final_df = pd.DataFrame()\n",
    "final_df = pd.DataFrame(predictions).reset_index(drop = True)\n",
    "final_df1 = pd.DataFrame(test_y).reset_index(drop = True)\n",
    "final_df['Actual'] = final_df1['PRICE']\n",
    "final_df = final_df.rename(columns={0:\"Predict\"})\n",
    "final_df['Sq_Diff'] = np.square(final_df['Actual'] - final_df['Predict'])\n",
    "MSE = np.sum(final_df['Sq_Diff'])/len(final_df)\n",
    "print(final_df.head(10))\n",
    "print(\"\\nThe MSE for the above model:\",MSE)"
   ]
  },
  {
   "cell_type": "markdown",
   "metadata": {},
   "source": [
    "### Testing the same against Scikit Learn"
   ]
  },
  {
   "cell_type": "code",
   "execution_count": 8,
   "metadata": {},
   "outputs": [
    {
     "name": "stdout",
     "output_type": "stream",
     "text": [
      "     Predict  Actual    Sq_Diff  sklearn_Pred  Sq_Diff_sklearn\n",
      "0  29.257814    24.0  27.644613     29.601692        31.378950\n",
      "1  18.416005    18.9   0.234251     19.375095         0.225715\n",
      "2  20.881352    18.9   3.925754     21.904876         9.029281\n",
      "3  14.126827    14.5   0.139258     14.318240         0.033037\n",
      "4  13.304788    13.9   0.354278     13.843175         0.003229\n",
      "5  19.579230    18.4   1.390583     19.982648         2.504774\n",
      "6  17.974116    14.5  12.069481     18.439118        15.516650\n",
      "7   9.246141    13.2  15.633002      9.455626        14.020339\n",
      "8  21.880027    20.0   3.534503     22.617710         6.852406\n",
      "9  22.521078    24.7   4.747701     23.250711         2.100438\n",
      "\n",
      "The MSE from Sklearn is: 24.54141609099559\n"
     ]
    }
   ],
   "source": [
    "from sklearn.linear_model import LinearRegression\n",
    "\n",
    "# instantiate, fit & predict\n",
    "lm2 = LinearRegression()\n",
    "lm2.fit(train_X, train_y)\n",
    "\n",
    "# predict for a new observation\n",
    "final_df['sklearn_Pred'] = lm2.predict(test_X)\n",
    "\n",
    "#Put the same in a Dataframe for output\n",
    "final_df['Sq_Diff_sklearn'] = np.square(final_df['Actual'] - final_df['sklearn_Pred'])\n",
    "MSE = np.sum(final_df['Sq_Diff_sklearn'])/len(final_df)\n",
    "print(final_df.head(10))\n",
    "print(\"\\nThe MSE from Sklearn is:\",MSE)"
   ]
  },
  {
   "cell_type": "markdown",
   "metadata": {
    "colab_type": "text",
    "id": "Man3c1JrhVbr"
   },
   "source": [
    "## Problem 1.2 (10 points)\n",
    "\n",
    "- Split the Boston Housing dataset into train and test sets (70% and 30%, respectively) (5 points). \n",
    "- Fit your linear regression implementation using the training set and print your model's coefficients. Make predictions for the test set using your fitted model (5 points)."
   ]
  },
  {
   "cell_type": "code",
   "execution_count": 9,
   "metadata": {
    "colab": {},
    "colab_type": "code",
    "id": "VEFBL6WwhXUz",
    "scrolled": false
   },
   "outputs": [
    {
     "name": "stdout",
     "output_type": "stream",
     "text": [
      "     Predict  Actual    Sq_Diff\n",
      "0  29.420354    24.0  29.380232\n",
      "1  18.644164    18.9   0.065452\n",
      "2  21.048841    18.9   4.617520\n",
      "3  14.247039    14.5   0.063989\n",
      "4  13.416465    13.9   0.233806\n",
      "5  19.796832    18.4   1.951139\n",
      "6  18.096802    14.5  12.936985\n",
      "7   9.404868    13.2  14.403030\n",
      "8  21.731641    20.0   2.998582\n",
      "9  22.493026    24.7   4.870736\n",
      "\n",
      "The MSE for the above model: 24.81261326165304\n",
      "\n",
      " The Coefficients are [[22.35298975]\n",
      " [-0.77023571]\n",
      " [ 0.51711781]\n",
      " [-0.22459182]\n",
      " [ 0.36938683]\n",
      " [-1.64383473]\n",
      " [ 2.91489359]\n",
      " [-0.08906462]\n",
      " [-2.51027883]\n",
      " [ 1.69166066]\n",
      " [-1.05438226]\n",
      " [-1.87855168]\n",
      " [ 0.95352462]\n",
      " [-3.42617772]]\n"
     ]
    }
   ],
   "source": [
    "#Create an instance of class Linear_Regression\n",
    "lin_reg = linear_regression\n",
    "model = lin_reg(0.01,1000,normalize=True)\n",
    "\n",
    "#Train & Test Split\n",
    "train = multiD.sample(frac=0.70, random_state=0)\n",
    "test = multiD.drop(train.index)\n",
    "\n",
    "train_X = train[['CRIM','ZN','INDUS','CHAS','NOX','RM','AGE','DIS','RAD','TAX','PTRATIO','B','LSTAT']]\n",
    "train_y = pd.DataFrame(train['PRICE'])\n",
    "\n",
    "test_X = test[['CRIM','ZN','INDUS','CHAS','NOX','RM','AGE','DIS','RAD','TAX','PTRATIO','B','LSTAT']]\n",
    "test_y = pd.DataFrame(test['PRICE'])\n",
    "\n",
    "coef, cost = model.fit(train_X,train_y)\n",
    "predictions = model.predict(test_X)\n",
    "\n",
    "final_df = pd.DataFrame()\n",
    "final_df = pd.DataFrame(predictions).reset_index(drop = True)\n",
    "final_df1 = pd.DataFrame(test_y).reset_index(drop = True)\n",
    "final_df['Actual'] = final_df1['PRICE']\n",
    "final_df = final_df.rename(columns={0:\"Predict\"})\n",
    "final_df['Sq_Diff'] = np.square(final_df['Actual'] - final_df['Predict'])\n",
    "MSE = np.sum(final_df['Sq_Diff'])/len(final_df)\n",
    "print(final_df.head(10))\n",
    "print(\"\\nThe MSE for the above model:\",MSE)\n",
    "print(\"\\n The Coefficients are\",coef)"
   ]
  },
  {
   "cell_type": "markdown",
   "metadata": {
    "colab_type": "text",
    "id": "9FXqtD_KhZwV"
   },
   "source": [
    "## Problem 1.3 (10 points)\n",
    "\n",
    "Identify the variable or set of variables that will minimize the mean square error (MSE). Hint: this is where your function being able to handle simple and multiple regression becomes useful."
   ]
  },
  {
   "cell_type": "code",
   "execution_count": null,
   "metadata": {
    "scrolled": true
   },
   "outputs": [],
   "source": [
    "#All column names\n",
    "choices = data.feature_names\n",
    "\n",
    "#Empty lists to \n",
    "feature = []\n",
    "score = []\n",
    "\n",
    "#Defining model to iterate combinations of features over\n",
    "lin_reg = linear_regression\n",
    "model = lin_reg(0.01,150,normalize=True)\n",
    "\n",
    "for r in range(2,14):\n",
    "    feature_combo = list(combinations(choices, r))\n",
    "    for i in range(0,len(feature_combo)):   \n",
    "#         print(feature_combo[i])\n",
    "\n",
    "        #Train & Test Split\n",
    "        train = df.sample(frac=0.70, random_state=0)\n",
    "        test = df.drop(train.index)\n",
    "\n",
    "        train_X = train[list(feature_combo[i])]\n",
    "        train_y = train['PRICE']\n",
    "        test_X = test[list(feature_combo[i])]\n",
    "        test_y = test['PRICE']\n",
    "\n",
    "        #Fit and Predict\n",
    "        coeffs = model.fit(train_X,train_y)\n",
    "        predictions = list(model.predict(test_X))\n",
    "\n",
    "        final_df = pd.DataFrame()\n",
    "        final_df = pd.DataFrame(predictions).reset_index(drop = True)\n",
    "        final_df1 = pd.DataFrame(test_y).reset_index(drop = True)\n",
    "        final_df['Actual'] = final_df1['PRICE']\n",
    "        final_df = final_df.rename(columns={0:\"Predict\"})\n",
    "        final_df['Sq_Diff'] = np.square(final_df['Actual'] - final_df['Predict'])\n",
    "        MSE = np.sum(final_df['Sq_Diff'])/len(final_df)\n",
    "        print(MSE)\n",
    "\n",
    "        feature.append(feature_combo[i])\n",
    "        score.append(MSE)"
   ]
  },
  {
   "cell_type": "code",
   "execution_count": 12,
   "metadata": {},
   "outputs": [],
   "source": [
    "#Writing the results to a csv and reading the same\n",
    "MSE_Eval = pd.DataFrame(np.asarray(feature))\n",
    "MSE_Eval['MSE'] = np.asarray(score)\n",
    "MSE_Eval.to_csv('MSE_Eval.csv',index=False)"
   ]
  },
  {
   "cell_type": "code",
   "execution_count": 59,
   "metadata": {},
   "outputs": [],
   "source": [
    "MSE_Eval = pd.read_csv('MSE_Eval.csv')"
   ]
  },
  {
   "cell_type": "code",
   "execution_count": 80,
   "metadata": {},
   "outputs": [
    {
     "name": "stdout",
     "output_type": "stream",
     "text": [
      "The least Mean Square Error obtained over 150 iterations: 59.14562072841089\n",
      "The variables include ('CRIM', 'ZN', 'INDUS', 'CHAS', 'NOX', 'RM', 'AGE', 'DIS', 'PTRATIO', 'B', 'LSTAT')\n"
     ]
    }
   ],
   "source": [
    "#Finding the index of the least MSE\n",
    "index = MSE_Eval[(MSE_Eval['MSE'] == np.min(MSE_Eval['MSE']))].reset_index()['index'][0]\n",
    "print(\"The least Mean Square Error obtained over 150 iterations:\",np.min(MSE_Eval['MSE']))\n",
    "print(\"The variables include\",MSE_Eval['0'][index])"
   ]
  },
  {
   "cell_type": "markdown",
   "metadata": {},
   "source": [
    "__Note__:\n",
    "The least value for MSE obtained over 1500 iterations as shown previously is 24.81. However, the final result of the combination of variables that lead to the least MSE seems to depend on factors like number of iterations, learning rate. \n",
    "\n",
    "In this case, over 150 iterations, the least MSE that could be obtained was 59.15 using the features mentioned above."
   ]
  },
  {
   "cell_type": "markdown",
   "metadata": {
    "colab_type": "text",
    "id": "KcqYa1U3iRQ1"
   },
   "source": [
    "## Problem 1.4 (5 points)\n",
    "\n",
    "1. __How do you interpret that a variable causes a model's mean square error to increase? (2 points)__\n",
    "  - Answer: Mean square error gives us an idea of how close the predictions are to the actuals. There can be number of factors that lead to increase in MSE of a model. Some of them are:\n",
    "      * __Outliers__ - If there are outliers present in handful of variables, they can cause the model to perform poorly by skewing the prediction in the wrong direction.      \n",
    "      \n",
    "      * __Autocorrelation__ - Occurs when the instances of a variable are correlated with itself. Presence of this would lead the model to predict something for y(x+n) based on y(x) when no real relationship exists. \n",
    "      \n",
    "      * __Underfitting__ - Not including variables that explain the target variable better in the model will cause an increase in MSE. Basically absence of compleexity needed to explain the data.\n",
    "      \n",
    "      * __Scale of features__ - Not normalizing the data may sometimes cause the model to ignore a variable or two just because it is on a smaller scale\n",
    "  \n",
    "2. __Why we would want to normalize our variables? (1 point)__\n",
    "  - Answer:The goal of normalization is to have all the data points on the same scale so that each feature is equally important. This way we do not introduce a bias in the model. \n",
    "  \n",
    "  Ex: Consider age of the house, number of rooms as the features used in a model.Without normalization, the age can range anywhere between 1 to say a 100 and rooms usually tend to range between 1 to say 10. This would be telling the model, one feature is more important the other when it is not the case\n",
    "  \n",
    "  \n",
    "3. __A model fitted using the exact same split dataset with normalized values will generate the same coefficients as a model that was fitted using values that haven't been normalized. Clearly state whether that statement is true or false and explain your reasoning. (2 points)__\n",
    "  - Answer: The statement is false. As mentioned above, having features in different scales causes addition of unnecessary and inaccurate bias into the model. The weightage of each feature will be predetermined when they are not normalized and may end up ignoring an important feature just because it was on a smaller scale.\n",
    "  \n",
    "  Also, the coefficients of the model fitted with and without normalization cannot be the same due to the reasons elucidated above."
   ]
  },
  {
   "cell_type": "markdown",
   "metadata": {
    "colab_type": "text",
    "id": "RJSot41BkMrB"
   },
   "source": [
    "# Problem 2: Binary Classification\n",
    "\n",
    "## Problem 2.1 (5 points)\n",
    "\n",
    "Consider the binary classification problem of mapping a given input to two classes. Let $\\mathcal{X}=\\mathbb{R}^d$ and $\\mathcal{Y}=\\{+1, -1\\}$ be the input space and output space, respectively. In simple words, it means that the input has $d$ features and all of them are real valued, whereas the output can only take values $-1$ or $+1$. This is one of the most common problems in machine learning and many sophisticated methods exist to solve it. In the question, we will solve it using the concepts we have already learned in class. Let us assume the two sets of points can be separated using a straight line i.e. the samples are linearly separable. So if $d=2$, one should be able to draw a line to distinguish between the two classes. All points lying on side of the line should belong to a particular class (say $1$) and the points lying on the other side should belong to another class (say $2$). To see what this would look like,  your first task is as follows:\n",
    "\n",
    "Write a function that will randomly generate a dataset for this problem. Your function should randomly choose a line $l$, which can be denoted as $ax + by + c = 0$. According to basic high school geometry, the line divides the plane into two sides. On one side, $ax+by+c>0$ while on the other $ax+by+c<0$. Use this fact to randomly generate $k_0$ points on the side of class 0 (i.e. $y=-1$) and $k_1$ points on the side of class 1 (i.e. $y=1$). Create a plot of this dataset where all the points corresponding to one class are blue and those of the other class are green, the line dividing both classes should be red. Axes should be labeled.\n",
    "\n",
    "**Note**: Do not confuse the $x$ and $y$ in the equation of line $ax + by + c = 0$ with $\\mathcal{X} $ and $\\mathcal{Y}$. Instead imagine these $x$ and $y$ as the 2-D coordinate system on which you have different points which should lie on 2 sides of the line $ax + by + c = 0$. For example, there is a point (2,3) in the 2-D system where $x = 2$ and $y = 3$."
   ]
  },
  {
   "cell_type": "code",
   "execution_count": 84,
   "metadata": {
    "colab": {},
    "colab_type": "code",
    "id": "g96jFpGyMIFu"
   },
   "outputs": [],
   "source": [
    "def generate_dataset(k0, k1):\n",
    "    \"\"\"\n",
    "    Parameters\n",
    "    ----------\n",
    "    k0 : integer, number of samples for class 0\n",
    "    k1 : integer, number of samples for class 1\n",
    "    \n",
    "    Returns\n",
    "    -------\n",
    "    X : array, shape (m, d), dimension numpy array where m is the number of \n",
    "    samples and d is the number of features \n",
    "\n",
    "    Y : array, (m, 1), dimension vector where m is the number of samples\n",
    "    \"\"\"\n",
    "        \n",
    "    #Generating 3 random numbers for a, b & c, considering the line \n",
    "    #in the form ax+by+c = 0\n",
    "    a = random.random()*100\n",
    "    b = random.random()*100\n",
    "    c = random.random()*100\n",
    "\n",
    "    #Generating random data points for x1,y1\n",
    "    x1 = np.random.uniform(100,-100,k0)\n",
    "    y1 = ((-c-(a*x1))/b) + np.random.randint(10,100,size = k0)\n",
    "\n",
    "    #Generating random data points for x2,y2\n",
    "    x2 = np.random.uniform(100,-100,k1)\n",
    "    y2 = ((-c-(a*x2))/b) - np.random.randint(10,100,size = k1)\n",
    "\n",
    "    \n",
    "    #Plotting the same\n",
    "    fig = plt.figure()\n",
    "    \n",
    "    #Enabling 4 quadrant view\n",
    "    ax = fig.add_subplot(1, 1, 1)\n",
    "    #Defining the graph\n",
    "    ax.spines['left'].set_position('center')\n",
    "    ax.spines['bottom'].set_position('center')\n",
    "    ax.spines['right'].set_color('none')\n",
    "    ax.spines['top'].set_color('none')\n",
    "   \n",
    "    plt.plot(x1, y1,'b.',label='Points to the Left')\n",
    "    plt.plot(x2, y2,'g.',label='Points to the Right')\n",
    "\n",
    "    x=list(x1) + list(x2)\n",
    "    x = np.asarray(x)\n",
    "    y = (-c-(a*x))/b\n",
    "    plt.plot(x,y,'r-')\n",
    "    plt.plot(x,y,'r-',label='Separator')\n",
    "    plt.legend(loc='upper left')\n",
    "    \n",
    "    #Join the x1,y1 and x2,y2 into one array to be returned from the function\n",
    "    temp = pd.DataFrame()\n",
    "    temp2 = pd.DataFrame()\n",
    "    temp['x1'] = x1\n",
    "    temp['x2'] = y1\n",
    "    temp['y'] = -1\n",
    "\n",
    "    temp2['x1'] = x2\n",
    "    temp2['x2'] = y2\n",
    "    temp2['y'] = 1\n",
    "\n",
    "    temp = temp.append(temp2)\n",
    "    X = np.asarray(temp[['x1','x2']])\n",
    "    Y = np.asarray(temp['y'])\n",
    "    \n",
    "    return X,Y"
   ]
  },
  {
   "cell_type": "code",
   "execution_count": 85,
   "metadata": {},
   "outputs": [
    {
     "data": {
      "image/png": "[encoded data removed]",
      "text/plain": [
       "<Figure size 432x288 with 1 Axes>"
      ]
     },
     "metadata": {},
     "output_type": "display_data"
    }
   ],
   "source": [
    "data_x,data_y = generate_dataset(20,20)"
   ]
  },
  {
   "cell_type": "markdown",
   "metadata": {
    "colab_type": "text",
    "id": "9mw15CFikXI1"
   },
   "source": [
    "## Problem 2.2 (35 points)\n",
    "\n",
    "If $\\mathcal{Y}$ is the variable you are trying to predict using a feature $\\mathcal{X}$ then in a typical Machine Learning problem, you are tasked with a target function $f$ which maps $\\mathcal{X}$ to $\\mathcal{Y}$ i.e. Find $f$ such that  $\\mathcal{Y}$  = $f(\\mathcal{X})$\n",
    "\n",
    "\n",
    "When you are given a dataset for which you do not have access to the target function $f$, you have to learn it from the data. In this problem, we are going to learn the parameters of the line that separates the two classes for the dataset that we constructed in Problem 2.1. As we previously mentioned, that line can be represented as $ax + by + c = 0$.\n",
    "\n",
    "The goal here is to correctly find out the coefficients $a$, $b$, and $c$, represented below as $\\bf{w}$ which is a vector. The algorithm to find it is a simple iterative process: \n",
    "\n",
    "1. Randomly choose a $\\mathbf{w}$ to begin with.\n",
    "2. Keep on adjusting the value of $\\bf{w}$ as follows until all data samples are correctly classified:\n",
    "    1. Randomly choose a sample from the dataset without replacement and see if it is correctly classified. If yes,  move on to another sample.\n",
    "    2. If not,  then  update the weights as $\\mathbf{w}^{t+1} = \\mathbf{w}^t + y \\cdot \\mathbf{x}$\n",
    "    and go back to the previous step (of randomly chosing a sample)\n",
    "    \n",
    "        - $\\mathbf{w}^{t+1}$ is value of $\\mathbf{w}$ at iteration $t+1$\n",
    "        - $\\mathbf{w}^{t}$ is value of $\\mathbf{w}$ at iteration $t$\n",
    "        - $y$ is the class label for the sample under consideration\n",
    "        - $\\mathbf{x}$ is the data-point under consideration\n",
    "    \n",
    "    \n",
    "Write a function that implements this learning algorithm. The input to the function is going to be a dataset represented by the input variable $X$ and the target variable $y$. The output of the function should be the chosen $\\mathbf{w}$.\n",
    "\n"
   ]
  },
  {
   "cell_type": "code",
   "execution_count": 88,
   "metadata": {},
   "outputs": [],
   "source": [
    "#Function: Given w, returns 2 points on the line (the x & y intercept)\n",
    "def return_ends(a,b,c):\n",
    "    #ax + by + c = 0\n",
    "    #the x intercept\n",
    "    x_int = (-c/a,0)\n",
    "    y_int = (0,-c/b)\n",
    "    return x_int,y_int"
   ]
  },
  {
   "cell_type": "code",
   "execution_count": 104,
   "metadata": {},
   "outputs": [],
   "source": [
    "def fit_line(x, y):\n",
    "    \"\"\"Predict using the binary classification model. Use the dataset generated \n",
    "    using generate_data() as input for this function.\n",
    "    \n",
    "    Parameters\n",
    "    ----------\n",
    "    X : array_like, shape (n_samples, n_features)\n",
    "        Samples.\n",
    "    y : array_like, shape (n_labels, 1)\n",
    "    \n",
    "    Returns\n",
    "    -------\n",
    "    w : array, shape (1,n_features)\n",
    "        Returns the final weight vector w.  \n",
    "    \"\"\"\n",
    "    \n",
    "    x = np.append(x,np.asarray(pd.DataFrame(np.ones(len(x)))),axis = 1)\n",
    "\n",
    "    w = np.random.randint(0,100,3)\n",
    "    success = 0\n",
    "\n",
    "    while success < len(x):\n",
    "        success = 0\n",
    "        for i in range(0,len(x)):\n",
    "            if ((w.dot(x[i]) > 0) & (y[i] == 1)):\n",
    "                success+=1\n",
    "            elif ((w.dot(x[i]) < 0) & (y[i] == -1)):\n",
    "                success+=1\n",
    "            else:\n",
    "                w = w+(y[i]*x[i])\n",
    "\n",
    "    #Create a plt object\n",
    "    fig = plt.figure()\n",
    "\n",
    "    #Enabling 4 quadrant view\n",
    "    ax = fig.add_subplot(1, 1, 1)\n",
    "    #Defining the graph\n",
    "    ax.spines['left'].set_position('center')\n",
    "    ax.spines['bottom'].set_position('center')\n",
    "    ax.spines['right'].set_color('none')\n",
    "    ax.spines['top'].set_color('none')\n",
    "\n",
    "\n",
    "    #Plot the data points belinging to -1 and 1\n",
    "    temp = pd.DataFrame(data_x)\n",
    "    temp = temp.rename(columns={0: \"x1\", 1: \"x2\"})\n",
    "    temp['Y'] = pd.DataFrame(data_y)\n",
    "    left = temp[(temp['Y']== -1)][['x1','x2']]\n",
    "    right = temp[(temp['Y'] == 1)][['x1','x2']]\n",
    "\n",
    "    plt.plot(left['x1'],left['x2'],'b.',label='Points to the Left')\n",
    "    plt.plot(right['x1'],right['x2'],'g.',label='Points to the Right')\n",
    "    \n",
    "    #Plot the line derived from the algorithm\n",
    "    x1,y1 = return_ends(w[0],w[1],w[2])[0][0],0\n",
    "    x2,y2 = 0,return_ends(w[0],w[1],w[2])[1][1]\n",
    "\n",
    "    x_int = []\n",
    "    y_int = []\n",
    "    x_int.append(x1)\n",
    "    x_int.append(x2)\n",
    "\n",
    "    y_int.append(y1)\n",
    "    y_int.append(y2)\n",
    "\n",
    "    #Finding more points on the line so that the line is visible\n",
    "    rise = (return_ends(w[0],w[1],w[2])[1][1] - return_ends(w[0],w[1],w[2])[1][0])\n",
    "    run = (return_ends(w[0],w[1],w[2])[0][0] - return_ends(w[0],w[1],w[2])[0][1])\n",
    "    slope = rise/run\n",
    "    intercept = return_ends(w[0],w[1],w[2])[1][1]\n",
    "\n",
    "    #The equation of the line\n",
    "    #y = mx+b\n",
    "    y_points = []\n",
    "    for i in range(-100,100):    \n",
    "        y_points.append(slope *i + intercept)\n",
    "\n",
    "    x_points = []\n",
    "    for i in range(0,len(y_points)): \n",
    "        x_points.append((y_points[i] - intercept)/slope)\n",
    "\n",
    "\n",
    "    plt.plot(x_points,y_points,'r-',label = 'Separator')\n",
    "    plt.legend(loc='upper left')\n",
    "\n",
    "    return w"
   ]
  },
  {
   "cell_type": "code",
   "execution_count": 105,
   "metadata": {},
   "outputs": [
    {
     "data": {
      "image/png": "[encoded data removed]",
      "text/plain": [
       "<Figure size 432x288 with 1 Axes>"
      ]
     },
     "metadata": {},
     "output_type": "display_data"
    }
   ],
   "source": [
    "w = fit_line(data_x,data_y)"
   ]
  },
  {
   "cell_type": "markdown",
   "metadata": {
    "colab_type": "text",
    "id": "SHc3t4e9MOxu"
   },
   "source": [
    "### Problem 2.3 (10 points)\n",
    "- __Give an intuition of why the above algorithm converges for linearly separable data? We do not expect you to give a mathematic proof, but it would be great if you can provide one. You will get full points even if you just provide an intuition of a few lines. Including figures or mathematical equations is encouraged but not required. (5 points)__\n",
    "\n",
    "Answer: The above algorithm basically implements gradient descent. It converges because it is corrected to move in the right direction until it classifies nearly most of the data points accuratley.\n",
    "  - The classes -1 and 1, part of target variable y, act as guides for which direction the correction is to be done\n",
    "  - The data point denoted by x, specifies the magnitude by which the correction is to be made.\n",
    "  \n",
    " Generic batch Gradient Descent algorithm:\n",
    "  - θi  = θi− α (positive/Negative Number)\n",
    "  - x here acts as the alpha and y as the positive/negative number\n",
    "   \n",
    "\n",
    "- __What happens when the data is not linearly separable? What can be done to salvage the situation?__\n",
    "\n",
    "Answer: When the data is not linear, it is possible that we end up with a poor classification using this method. One possible solution is to increase the number of degrees to fit a more complex line that explains the data better.\n",
    "  Alternative solutions include using a different model that is capable of handling more complexity like an SVM or a Decision Tree Classfication"
   ]
  }
 ],
 "metadata": {
  "colab": {
   "name": "A1-F19.ipynb",
   "provenance": [],
   "version": "0.3.2"
  },
  "kernelspec": {
   "display_name": "Python 3",
   "language": "python",
   "name": "python3"
  },
  "language_info": {
   "codemirror_mode": {
    "name": "ipython",
    "version": 3
   },
   "file_extension": ".py",
   "mimetype": "text/x-python",
   "name": "python",
   "nbconvert_exporter": "python",
   "pygments_lexer": "ipython3",
   "version": "3.6.5"
  }
 },
 "nbformat": 4,
 "nbformat_minor": 1
}
